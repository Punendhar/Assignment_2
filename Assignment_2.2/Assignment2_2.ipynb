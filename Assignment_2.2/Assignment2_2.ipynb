{
 "cells": [
  {
   "cell_type": "markdown",
   "metadata": {},
   "source": [
    "Write a Python Program to implement your own myreduce() function which works exactly\n",
    "like Python's built-in function reduce()"
   ]
  },
  {
   "cell_type": "code",
   "execution_count": 8,
   "metadata": {},
   "outputs": [
    {
     "name": "stdout",
     "output_type": "stream",
     "text": [
      "sum of number in list[1,2,3] is: 6\n",
      "difference of number in list[1,2,3] is: -4\n",
      "multiplication using lambda of number in list[1,2,3] is: 6\n"
     ]
    }
   ],
   "source": [
    "#Custome myreduce function\n",
    "#accepts a function (defined / lambda) and returns single value\n",
    "def myreduce(function, my_list):\n",
    "    result = my_list[0]\n",
    "    for item in my_list[1:]:\n",
    "        result = function(result,item)\n",
    "    return result\n",
    "\n",
    "#defined function to add two values\n",
    "def add(x,y):\n",
    "    return x+y\n",
    "#defined function to substract two values\n",
    "def diff(x,y):\n",
    "    return x-y\n",
    "\n",
    "print(\"sum of number in list[1,2,3] is: \"+str(myreduce(add,[1,2,3])))\n",
    "print(\"difference of number in list[1,2,3] is: \"+str(myreduce(diff,[1,2,3])))\n",
    "#using lambda function to the custome reduce function\n",
    "print(\"multiplication using lambda of number in list[1,2,3] is: \"+str(myreduce(lambda x,y : x*y ,[1,2,3])))\n"
   ]
  },
  {
   "cell_type": "markdown",
   "metadata": {},
   "source": [
    "Write a Python program to implement your own myfilter() function which works exactly like\n",
    "Python's built-in function filter()"
   ]
  },
  {
   "cell_type": "code",
   "execution_count": 13,
   "metadata": {},
   "outputs": [
    {
     "name": "stdout",
     "output_type": "stream",
     "text": [
      "filter alphabets from list ['a','b','c','d','x','y','z','i','o']: ['a', 'i', 'o']\n",
      "filter even numbers from list [1,2,3,4,5,6]: [2, 4, 6]\n"
     ]
    }
   ],
   "source": [
    "#Custome myfilter function\n",
    "def myfilter(function, my_list):\n",
    "    result = []\n",
    "    for item in my_list:\n",
    "        if function(item):\n",
    "            result.append(item)\n",
    "    return result\n",
    "\n",
    "def filterVowels(alphabets):\n",
    "    vowels = ['a','e','i','o','u']\n",
    "    if(alphabets in vowels):\n",
    "        return True\n",
    "    else:\n",
    "        return False\n",
    "\n",
    "print(\"filter alphabets from list ['a','b','c','d','x','y','z','i','o']: \"+str(myfilter(filterVowels,['a','b','c','d','x','y','z','i','o'])))\n",
    "#filter with lambda functions\n",
    "print(\"filter even numbers from list [1,2,3,4,5,6]: \"+str(myfilter(lambda x: x%2==0,[1,2,3,4,5,6])))"
   ]
  },
  {
   "cell_type": "markdown",
   "metadata": {},
   "source": [
    "Implement List comprehensions to produce the following lists."
   ]
  },
  {
   "cell_type": "code",
   "execution_count": 14,
   "metadata": {},
   "outputs": [
    {
     "data": {
      "text/plain": [
       "['A', 'C', 'A', 'D', 'G', 'I', 'L', 'D']"
      ]
     },
     "execution_count": 14,
     "metadata": {},
     "output_type": "execute_result"
    }
   ],
   "source": [
    "word = 'ACADGILD'\n",
    "mylist=list(word.strip())\n",
    "mylist"
   ]
  },
  {
   "cell_type": "code",
   "execution_count": 15,
   "metadata": {},
   "outputs": [
    {
     "data": {
      "text/plain": [
       "['x', 'xx', 'xxx', 'xxxx', 'y', 'yy', 'yyy', 'yyyy', 'z', 'zz', 'zzz', 'zzzz']"
      ]
     },
     "execution_count": 15,
     "metadata": {},
     "output_type": "execute_result"
    }
   ],
   "source": [
    "listin = ['x','y','z']\n",
    "outlist = [i*j for i in listin for j in range(1,5)]\n",
    "outlist"
   ]
  },
  {
   "cell_type": "code",
   "execution_count": 16,
   "metadata": {},
   "outputs": [
    {
     "data": {
      "text/plain": [
       "['x', 'y', 'z', 'xx', 'yy', 'zz', 'xxx', 'yyy', 'zzz', 'xxxx', 'yyyy', 'zzzz']"
      ]
     },
     "execution_count": 16,
     "metadata": {},
     "output_type": "execute_result"
    }
   ],
   "source": [
    "outlist2 = [i*j for i in range(1,5) for j in listin ]\n",
    "outlist2"
   ]
  },
  {
   "cell_type": "code",
   "execution_count": 17,
   "metadata": {},
   "outputs": [
    {
     "data": {
      "text/plain": [
       "[[2], [3], [4], [3], [4], [5], [4], [5], [6]]"
      ]
     },
     "execution_count": 17,
     "metadata": {},
     "output_type": "execute_result"
    }
   ],
   "source": [
    "listin1 = [2,3,4]\n",
    "outlist3 = [[i+j] for i in listin1 for j in range(3)]\n",
    "outlist3"
   ]
  },
  {
   "cell_type": "code",
   "execution_count": 18,
   "metadata": {},
   "outputs": [
    {
     "data": {
      "text/plain": [
       "[[2, 3, 4, 5], [3, 4, 5, 6], [4, 5, 6, 7], [5, 6, 7, 8]]"
      ]
     },
     "execution_count": 18,
     "metadata": {},
     "output_type": "execute_result"
    }
   ],
   "source": [
    "listin2 = [2,3,4,5]\n",
    "outlist4 = [[i+j for i in listin2] for j in range(4)]\n",
    "outlist4"
   ]
  },
  {
   "cell_type": "code",
   "execution_count": 19,
   "metadata": {},
   "outputs": [
    {
     "data": {
      "text/plain": [
       "[(1, 1), (1, 2), (1, 3), (2, 1), (2, 2), (2, 3), (3, 1), (3, 2), (3, 3)]"
      ]
     },
     "execution_count": 19,
     "metadata": {},
     "output_type": "execute_result"
    }
   ],
   "source": [
    "listin3 = [1,2,3]\n",
    "outlist5 = [(i,j) for i in listin3 for j in listin3]\n",
    "outlist5"
   ]
  },
  {
   "cell_type": "markdown",
   "metadata": {},
   "source": [
    "Implement a function longestWord() that takes a list of words and returns the longest one."
   ]
  },
  {
   "cell_type": "code",
   "execution_count": null,
   "metadata": {},
   "outputs": [],
   "source": [
    "wordlist = ['ab','aasdfasdfbc','abcdefg','abcdef']\n",
    "\n",
    "def longestWord(wordlist):  \n",
    "    wordlen = []  \n",
    "    for n in wordlist:\n",
    "        wordlen.append((len(n), n))\n",
    "        wordlen.sort()\n",
    "    return wordlen[-1][1]\n",
    "            \n",
    "longestWord(wordlist)"
   ]
  },
  {
   "cell_type": "code",
   "execution_count": null,
   "metadata": {},
   "outputs": [],
   "source": []
  },
  {
   "cell_type": "code",
   "execution_count": null,
   "metadata": {},
   "outputs": [],
   "source": []
  }
 ],
 "metadata": {
  "kernelspec": {
   "display_name": "Python 3",
   "language": "python",
   "name": "python3"
  },
  "language_info": {
   "codemirror_mode": {
    "name": "ipython",
    "version": 3
   },
   "file_extension": ".py",
   "mimetype": "text/x-python",
   "name": "python",
   "nbconvert_exporter": "python",
   "pygments_lexer": "ipython3",
   "version": "3.7.0"
  }
 },
 "nbformat": 4,
 "nbformat_minor": 2
}
